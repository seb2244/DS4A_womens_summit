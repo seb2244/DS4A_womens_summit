{
 "cells": [
  {
   "cell_type": "code",
   "execution_count": 2,
   "metadata": {},
   "outputs": [],
   "source": [
    "import numpy                 as np\n",
    "import pandas                as pd\n",
    "import matplotlib.pyplot     as plt\n",
    "import seaborn               as sns\n",
    "import sklearn.metrics       as Metrics\n",
    "import pandas                as pd\n",
    "import matplotlib.pyplot     as plt"
   ]
  },
  {
   "cell_type": "markdown",
   "metadata": {},
   "source": [
    "Look at calendar data to verify that the nyc data is only for years 2017-2018 "
   ]
  },
  {
   "cell_type": "markdown",
   "metadata": {},
   "source": [
    "Import and clean Zillow data for rental price per square foot for 1, 2, and 3 bedroom properties in NYC. "
   ]
  },
  {
   "cell_type": "code",
   "execution_count": 14,
   "metadata": {},
   "outputs": [],
   "source": [
    "rent_1 = pd.read_csv(\"Zip_MedianRentalPricePerSqft_1Bedroom.csv\")\n",
    "rent_2 = pd.read_csv(\"Zip_MedianRentalPricePerSqft_2Bedroom.csv\")\n",
    "rent_3 = pd.read_csv(\"Zip_MedianRentalPricePerSqft_3Bedroom.csv\")\n",
    "#no data for NYC for 4 & 5 bedrooms "
   ]
  },
  {
   "cell_type": "code",
   "execution_count": 16,
   "metadata": {},
   "outputs": [
    {
     "name": "stdout",
     "output_type": "stream",
     "text": [
      "Index(['RegionName', 'City', 'State', 'Metro', 'CountyName', 'SizeRank',\n",
      "       '2010-02', '2010-03', '2010-04', '2010-05',\n",
      "       ...\n",
      "       '2018-11', '2018-12', '2019-01', '2019-02', '2019-03', '2019-04',\n",
      "       '2019-05', '2019-06', '2019-07', '2019-08'],\n",
      "      dtype='object', length=121)\n"
     ]
    }
   ],
   "source": [
    "#select only columns from NYC\n",
    "print(rent_1.columns)\n",
    "rent_1 = rent_1[rent_1[\"City\"] == \"New York\"]\n",
    "rent_2 = rent_2[rent_2[\"City\"] == \"New York\"]\n",
    "rent_3 = rent_3[rent_3[\"City\"] == \"New York\"]"
   ]
  },
  {
   "cell_type": "code",
   "execution_count": 41,
   "metadata": {},
   "outputs": [],
   "source": [
    "#make a new factor for number of bedrooms and concatenate into one dataset\n",
    "rent_1['# of Bedrooms'] = 1;\n",
    "rent_2['# of Bedrooms'] = 2;\n",
    "rent_3['# of Bedrooms'] = 3;\n",
    "rent = pd.concat([rent_1, rent_2, rent_3], sort=False)\n",
    "#fill in missing values and drop unnecessary columns\n",
    "rent = rent.fillna(0)\n",
    "rent = rent.drop(['CountyName', 'SizeRank', 'City', 'State', 'Metro'], axis = 1)\n",
    "#rent = rent.drop('SizeRank')"
   ]
  },
  {
   "cell_type": "code",
   "execution_count": 42,
   "metadata": {},
   "outputs": [],
   "source": [
    "export_csv = rent.to_csv(r'rent_per_sq_ft.csv', header=True)\n",
    "#export_csv = rent.to_csv(r'C:\\Users\\seb2244\\Desktop\\DS4A_workspace\\Capstone_project\\rent_per_sq_ft.csv', header=True)"
   ]
  },
  {
   "cell_type": "code",
   "execution_count": 43,
   "metadata": {},
   "outputs": [],
   "source": [
    "#same process, but with median rent values that are not per square foot\n",
    "#since we can use it when the square foot data is unavailable \n",
    "rent_1 = pd.read_csv(\"Zip_MedianRentalPrice_1Bedroom.csv\")\n",
    "rent_2 = pd.read_csv(\"Zip_MedianRentalPrice_2Bedroom.csv\")\n",
    "rent_3 = pd.read_csv(\"Zip_MedianRentalPrice_3Bedroom.csv\")\n",
    "rent_4 = pd.read_csv(\"Zip_MedianRentalPrice_4Bedroom.csv\")\n",
    "\n",
    "rent_1 = rent_1[rent_1[\"City\"] == \"New York\"]\n",
    "rent_2 = rent_2[rent_2[\"City\"] == \"New York\"]\n",
    "rent_3 = rent_3[rent_3[\"City\"] == \"New York\"]\n",
    "rent_4 = rent_4[rent_4[\"City\"] == \"New York\"]\n",
    "\n",
    "rent_1['# of Bedrooms'] = 1;\n",
    "rent_2['# of Bedrooms'] = 2;\n",
    "rent_3['# of Bedrooms'] = 3;\n",
    "rent_4['# of Bedrooms'] = 4;\n",
    "\n",
    "rent = pd.concat([rent_1, rent_2, rent_3, rent_4], sort=False)\n",
    "rent = rent.fillna(0)\n",
    "rent = rent.drop(['CountyName', 'SizeRank', 'City', 'State', 'Metro'], axis = 1)\n",
    "\n",
    "export_csv = rent.to_csv(r'rent_total.csv', header=True)\n"
   ]
  }
 ],
 "metadata": {
  "kernelspec": {
   "display_name": "Python 3",
   "language": "python",
   "name": "python3"
  },
  "language_info": {
   "codemirror_mode": {
    "name": "ipython",
    "version": 3
   },
   "file_extension": ".py",
   "mimetype": "text/x-python",
   "name": "python",
   "nbconvert_exporter": "python",
   "pygments_lexer": "ipython3",
   "version": "3.7.3"
  }
 },
 "nbformat": 4,
 "nbformat_minor": 2
}
